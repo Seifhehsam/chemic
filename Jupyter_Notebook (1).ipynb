{
 "cells": [
  {
   "cell_type": "markdown",
   "metadata": {},
   "source": [
    "<center>\n",
    "    <img src=\"https://cf-courses-data.s3.us.cloud-object-storage.appdomain.cloud/IBMDeveloperSkillsNetwork-DS0105EN-SkillsNetwork/labs/Module2/images/SN_web_lightmode.png\" width=\"300\" alt=\"cognitiveclass.ai logo\">\n",
    "</center>\n"
   ]
  },
  {
   "cell_type": "markdown",
   "metadata": {},
   "source": [
    "#### Add your code below following the instructions given in the course\n"
   ]
  },
  {
   "cell_type": "markdown",
   "metadata": {},
   "source": [
    "# title of the note book"
   ]
  },
  {
   "cell_type": "markdown",
   "metadata": {},
   "source": [
    "# this cell is an introduction to the final assignment "
   ]
  },
  {
   "cell_type": "markdown",
   "metadata": {},
   "source": [
    "# this cell is foe listing data science languages\n",
    "1. python\n",
    "2. R\n",
    "3. SQL(structured Query language \n",
    "4. Julia \n",
    "5. Java \n",
    "6. Scala "
   ]
  },
  {
   "cell_type": "markdown",
   "metadata": {},
   "source": [
    "# this cell is for data science libraries \n",
    "- python \n",
    "1. pandas \n",
    "2. NumPy \n",
    "3. Matplotlib\n",
    "4. Seaborn \n",
    "5. Scikit-Learne\n",
    "6. TensorFlow\n",
    "7. PyTorch\n",
    "-R libraries \n",
    "1. dplyr\n",
    "2. ggplot2\n",
    "3. caret\n",
    "4. tidyr."
   ]
  },
  {
   "cell_type": "markdown",
   "metadata": {},
   "source": [
    "# this cell is for data science tools \n",
    "|Data Collection and Extraction Tools|Data Storage and Database Tools|Data Analysis and Manipulation Tools|Machine Learning and Deep Learning Tools|\n",
    "|------------------------------------|-------------------------------|------------------------------------|---------------------------------------|\n",
    "|1. Web Scraping Tools|1. Relational Databases|1. Statistical Software|1. Scikit-Learn|\n",
    "|2. APIs|2. NoSQL Databases|2. Python Libraries|2. TensorFlow and Keras|\n",
    "|3. Data Cleaning Tools|3. Big Data Tools|3. Data Visualization Tools|3. PyTorch|\n",
    "\n"
   ]
  },
  {
   "cell_type": "markdown",
   "metadata": {},
   "source": [
    "# Evaluating Basic Arithmetic Expression\n",
    "Here you will be evaluating a basic arithmetic expression containing addition and multiplication operations."
   ]
  },
  {
   "cell_type": "code",
   "execution_count": 8,
   "metadata": {
    "tags": []
   },
   "outputs": [
    {
     "data": {
      "text/plain": [
       "100"
      ]
     },
     "execution_count": 8,
     "metadata": {},
     "output_type": "execute_result"
    }
   ],
   "source": [
    "(20+5)*4\n"
   ]
  },
  {
   "cell_type": "code",
   "execution_count": 9,
   "metadata": {
    "tags": []
   },
   "outputs": [
    {
     "data": {
      "text/plain": [
       "2"
      ]
     },
     "execution_count": 9,
     "metadata": {},
     "output_type": "execute_result"
    }
   ],
   "source": [
    "#this cell is for adding numbers \n",
    "1+1"
   ]
  },
  {
   "cell_type": "code",
   "execution_count": 10,
   "metadata": {
    "tags": []
   },
   "outputs": [
    {
     "data": {
      "text/plain": [
       "4"
      ]
     },
     "execution_count": 10,
     "metadata": {},
     "output_type": "execute_result"
    }
   ],
   "source": [
    "#this cell is for multiply numbers\n",
    "2*2"
   ]
  },
  {
   "cell_type": "code",
   "execution_count": 12,
   "metadata": {
    "tags": []
   },
   "outputs": [],
   "source": [
    "# this code cell is for converting minutes to hours \n",
    "## the law for that is = no of minutes /60"
   ]
  },
  {
   "cell_type": "markdown",
   "metadata": {},
   "source": [
    "# this markdown cell is for listing objectives \n",
    "# level 1 objectives \n",
    "## level 2 objectives \n"
   ]
  },
  {
   "cell_type": "markdown",
   "metadata": {},
   "source": [
    "# this markdown cell is for indicating author's name"
   ]
  },
  {
   "cell_type": "markdown",
   "metadata": {},
   "source": [
    "### Author:\n",
    "Your Name\n"
   ]
  },
  {
   "cell_type": "code",
   "execution_count": 13,
   "metadata": {
    "tags": []
   },
   "outputs": [
    {
     "name": "stdin",
     "output_type": "stream",
     "text": [
      "Enter the number of minutes:  60\n"
     ]
    },
    {
     "name": "stdout",
     "output_type": "stream",
     "text": [
      "60 minutes is equal to 1.0 hours.\n"
     ]
    }
   ],
   "source": [
    "# Get input from the user (assuming minutes as an integer)\n",
    "minutes = int(input(\"Enter the number of minutes: \"))\n",
    "\n",
    "# Convert minutes to hours\n",
    "hours = minutes / 60\n",
    "\n",
    "# Print the result\n",
    "print(f\"{minutes} minutes is equal to {hours} hours.\")\n"
   ]
  },
  {
   "cell_type": "code",
   "execution_count": null,
   "metadata": {},
   "outputs": [],
   "source": []
  }
 ],
 "metadata": {
  "kernelspec": {
   "display_name": "Python",
   "language": "python",
   "name": "conda-env-python-py"
  },
  "language_info": {
   "codemirror_mode": {
    "name": "ipython",
    "version": 3
   },
   "file_extension": ".py",
   "mimetype": "text/x-python",
   "name": "python",
   "nbconvert_exporter": "python",
   "pygments_lexer": "ipython3",
   "version": "3.7.12"
  }
 },
 "nbformat": 4,
 "nbformat_minor": 4
}
